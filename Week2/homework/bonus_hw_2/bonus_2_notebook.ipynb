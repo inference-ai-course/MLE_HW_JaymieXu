﻿{
 "cells": [
  {
   "metadata": {
    "ExecuteTime": {
     "end_time": "2025-07-29T16:53:22.771128Z",
     "start_time": "2025-07-29T16:53:22.768891Z"
    }
   },
   "cell_type": "code",
   "source": [
    "json_filename = \"../bonus_hw_1/arxiv_clean.json\"  # You can change this value if needed\n",
    "max_pdf_limit = 10 # I have limited space on my own PC, default 10 as a good demo number; 0 or below = no max\n",
    "pdf_urls = []\n",
    "pdf_titles = []"
   ],
   "id": "592595de968267e9",
   "outputs": [],
   "execution_count": 34
  },
  {
   "metadata": {},
   "cell_type": "markdown",
   "source": "First things first, lets garb all the URLs from the previous output and change it to fetch pdfs instead",
   "id": "d654921a5ea439ac"
  },
  {
   "metadata": {
    "ExecuteTime": {
     "end_time": "2025-07-29T16:53:24.344713Z",
     "start_time": "2025-07-29T16:53:24.339792Z"
    }
   },
   "cell_type": "code",
   "source": [
    "import json\n",
    "import re\n",
    "\n",
    "def sanitize_filename(title):\n",
    "    # Remove characters not allowed in filenames\n",
    "    return re.sub(r'[\\\\/*?:\"<>|]', \"\", title)\n",
    "\n",
    "with open(json_filename, 'r', encoding='utf-8') as f:\n",
    "    data = json.load(f)\n",
    "\n",
    "# Get all URLs\n",
    "if max_pdf_limit > 0:\n",
    "    urls = [entry[\"url\"] for entry in data[:max_pdf_limit]]\n",
    "    pdf_titles = [sanitize_filename(entry[\"title\"]) for entry in data[:max_pdf_limit]]\n",
    "else:\n",
    "    urls = [entry[\"url\"] for entry in data]\n",
    "    pdf_titles = [sanitize_filename(entry[\"title\"]) for entry in data]\n",
    "\n",
    "# Replace abs with pdf\n",
    "for url in urls:\n",
    "    pdf_urls.append(url.replace('/abs/', '/pdf/'))"
   ],
   "id": "a51514df6e87acad",
   "outputs": [],
   "execution_count": 35
  },
  {
   "metadata": {},
   "cell_type": "markdown",
   "source": "We fetch these pdf files and temporarily save them on file system",
   "id": "193b600fabdfb6e4"
  },
  {
   "metadata": {
    "ExecuteTime": {
     "end_time": "2025-07-29T16:53:36.278944Z",
     "start_time": "2025-07-29T16:53:34.958201Z"
    }
   },
   "cell_type": "code",
   "source": [
    "import requests\n",
    "\n",
    "for idx, pdf_url in enumerate(pdf_urls):\n",
    "    response = requests.get(pdf_url)\n",
    "    with open(f\"{pdf_titles[idx]}.pdf\", 'wb') as f:\n",
    "        f.write(response.content)"
   ],
   "id": "ee17f85b9269ab35",
   "outputs": [],
   "execution_count": 36
  },
  {
   "metadata": {},
   "cell_type": "markdown",
   "source": "Batch process the pdf files and save them to txt under pdf_ocr",
   "id": "c75da5ad7b8a6b22"
  },
  {
   "metadata": {
    "ExecuteTime": {
     "end_time": "2025-07-29T17:26:50.853022Z",
     "start_time": "2025-07-29T17:22:02.503811Z"
    }
   },
   "cell_type": "code",
   "source": [
    "import os\n",
    "from pdf2image import convert_from_path\n",
    "import pytesseract\n",
    "\n",
    "pdf_folder = os.getcwd()\n",
    "output_folder = \"pdf_ocr\"\n",
    "\n",
    "os.makedirs(output_folder, exist_ok=True)\n",
    "\n",
    "for filename in os.listdir(pdf_folder):\n",
    "    if filename.lower().endswith('.pdf'):\n",
    "        pdf_path = os.path.join(pdf_folder, filename)\n",
    "        # Remove .pdf extension and add .txt for output\n",
    "        txt_filename = os.path.splitext(filename)[0] + \".txt\"\n",
    "        txt_path = os.path.join(output_folder, txt_filename)\n",
    "\n",
    "        images = convert_from_path(pdf_path)\n",
    "        ocr_text = \"\"\n",
    "        for img in images:\n",
    "            ocr_text += pytesseract.image_to_string(img) + \"\\n\"\n",
    "\n",
    "        with open(txt_path, \"w\", encoding=\"utf-8\") as f:\n",
    "            f.write(ocr_text)"
   ],
   "id": "1819d53fd9f2f480",
   "outputs": [],
   "execution_count": 1
  }
 ],
 "metadata": {
  "kernelspec": {
   "display_name": "Python 3",
   "language": "python",
   "name": "python3"
  },
  "language_info": {
   "codemirror_mode": {
    "name": "ipython",
    "version": 2
   },
   "file_extension": ".py",
   "mimetype": "text/x-python",
   "name": "python",
   "nbconvert_exporter": "python",
   "pygments_lexer": "ipython2",
   "version": "2.7.6"
  }
 },
 "nbformat": 4,
 "nbformat_minor": 5
}
