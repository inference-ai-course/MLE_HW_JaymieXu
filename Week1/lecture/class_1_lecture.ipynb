{
 "cells": [
  {
   "metadata": {
    "ExecuteTime": {
     "end_time": "2025-07-31T17:03:57.314335Z",
     "start_time": "2025-07-31T17:03:57.309708Z"
    }
   },
   "cell_type": "code",
   "source": [
    "import sys\n",
    "import os\n",
    "\n",
    "def get_my_key(key_file):\n",
    "    if not os.path.exists(key_file):\n",
    "        print(f\"ERROR: '{key_file}' not found. Please create this file and put your API key in it. Or directly replace api_key=get_my_key\")\n",
    "        sys.exit(1)  # Exit with error code\n",
    "\n",
    "    with open(key_file) as f:\n",
    "        return f.read().strip()"
   ],
   "outputs": [],
   "execution_count": 1
  },
  {
   "cell_type": "markdown",
   "metadata": {},
   "source": [
    "# Machine Learning Engineer in the\u000BGenerative AI Era \n",
    "## lecture 1 - Prompt Engineering with Jupyter Notebook \n",
    "### Introduction\n",
    "This notebook introduces prompt engineering techniques to effectively interact with large language models (LLMs). You'll learn how to craft prompts for various tasks, including summarization, inference, transformation, and expansion\n",
    "\n",
    "### 1. Setup"
   ]
  },
  {
   "cell_type": "code",
   "execution_count": null,
   "metadata": {},
   "outputs": [
    {
     "name": "stdout",
     "output_type": "stream",
     "text": [
      "\u001B[33mDEPRECATION: Loading egg at /Users/scottlai/.pyenv/versions/3.11.8/lib/python3.11/site-packages/python_autocite-0.0.4-py3.11.egg is deprecated. pip 25.1 will enforce this behaviour change. A possible replacement is to use pip for package installation. Discussion can be found at https://github.com/pypa/pip/issues/12330\u001B[0m\u001B[33m\n",
      "\u001B[0mRequirement already satisfied: openai in /Users/scottlai/.pyenv/versions/3.11.8/lib/python3.11/site-packages (1.3.5)\n",
      "Collecting openai\n",
      "  Using cached openai-1.70.0-py3-none-any.whl.metadata (25 kB)\n",
      "Requirement already satisfied: anyio<5,>=3.5.0 in /Users/scottlai/.pyenv/versions/3.11.8/lib/python3.11/site-packages (from openai) (3.7.1)\n",
      "Requirement already satisfied: distro<2,>=1.7.0 in /Users/scottlai/.pyenv/versions/3.11.8/lib/python3.11/site-packages (from openai) (1.9.0)\n",
      "Requirement already satisfied: httpx<1,>=0.23.0 in /Users/scottlai/.pyenv/versions/3.11.8/lib/python3.11/site-packages (from openai) (0.27.2)\n",
      "Requirement already satisfied: jiter<1,>=0.4.0 in /Users/scottlai/.pyenv/versions/3.11.8/lib/python3.11/site-packages (from openai) (0.6.1)\n",
      "Requirement already satisfied: pydantic<3,>=1.9.0 in /Users/scottlai/.pyenv/versions/3.11.8/lib/python3.11/site-packages (from openai) (2.10.6)\n",
      "Requirement already satisfied: sniffio in /Users/scottlai/.pyenv/versions/3.11.8/lib/python3.11/site-packages (from openai) (1.3.1)\n",
      "Requirement already satisfied: tqdm>4 in /Users/scottlai/.pyenv/versions/3.11.8/lib/python3.11/site-packages (from openai) (4.66.3)\n",
      "Requirement already satisfied: typing-extensions<5,>=4.11 in /Users/scottlai/.pyenv/versions/3.11.8/lib/python3.11/site-packages (from openai) (4.12.2)\n",
      "Requirement already satisfied: idna>=2.8 in /Users/scottlai/.pyenv/versions/3.11.8/lib/python3.11/site-packages (from anyio<5,>=3.5.0->openai) (3.10)\n",
      "Requirement already satisfied: certifi in /Users/scottlai/.pyenv/versions/3.11.8/lib/python3.11/site-packages (from httpx<1,>=0.23.0->openai) (2024.8.30)\n",
      "Requirement already satisfied: httpcore==1.* in /Users/scottlai/.pyenv/versions/3.11.8/lib/python3.11/site-packages (from httpx<1,>=0.23.0->openai) (1.0.6)\n",
      "Requirement already satisfied: h11<0.15,>=0.13 in /Users/scottlai/.pyenv/versions/3.11.8/lib/python3.11/site-packages (from httpcore==1.*->httpx<1,>=0.23.0->openai) (0.14.0)\n",
      "Requirement already satisfied: annotated-types>=0.6.0 in /Users/scottlai/.pyenv/versions/3.11.8/lib/python3.11/site-packages (from pydantic<3,>=1.9.0->openai) (0.7.0)\n",
      "Requirement already satisfied: pydantic-core==2.27.2 in /Users/scottlai/.pyenv/versions/3.11.8/lib/python3.11/site-packages (from pydantic<3,>=1.9.0->openai) (2.27.2)\n",
      "Using cached openai-1.70.0-py3-none-any.whl (599 kB)\n",
      "Installing collected packages: openai\n",
      "  Attempting uninstall: openai\n",
      "    Found existing installation: openai 1.3.5\n",
      "    Uninstalling openai-1.3.5:\n",
      "      Successfully uninstalled openai-1.3.5\n",
      "Successfully installed openai-1.70.0\n",
      "\n",
      "\u001B[1m[\u001B[0m\u001B[34;49mnotice\u001B[0m\u001B[1;39;49m]\u001B[0m\u001B[39;49m A new release of pip is available: \u001B[0m\u001B[31;49m24.3.1\u001B[0m\u001B[39;49m -> \u001B[0m\u001B[32;49m25.0.1\u001B[0m\n",
      "\u001B[1m[\u001B[0m\u001B[34;49mnotice\u001B[0m\u001B[1;39;49m]\u001B[0m\u001B[39;49m To update, run: \u001B[0m\u001B[32;49mpip install --upgrade pip\u001B[0m\n"
     ]
    }
   ],
   "source": [
    "! pip install openai"
   ]
  },
  {
   "cell_type": "markdown",
   "metadata": {},
   "source": [
    "Import the necessary libraries and set your OpenAI API key:"
   ]
  },
  {
   "cell_type": "code",
   "metadata": {
    "ExecuteTime": {
     "end_time": "2025-07-31T17:09:01.666590Z",
     "start_time": "2025-07-31T17:09:01.282993Z"
    }
   },
   "source": [
    "import openai\n",
    "\n",
    "# Initialize the OpenAI client\n",
    "client = openai.OpenAI(api_key=get_my_key('../../Keys/openai.txt'))\n"
   ],
   "outputs": [],
   "execution_count": 6
  },
  {
   "cell_type": "markdown",
   "metadata": {},
   "source": [
    "### 2. Basic Prompting\n",
    "Let's start with a simple prompt to generate a response from the model."
   ]
  },
  {
   "cell_type": "code",
   "metadata": {
    "ExecuteTime": {
     "end_time": "2025-07-31T17:09:20.131241Z",
     "start_time": "2025-07-31T17:09:15.734849Z"
    }
   },
   "source": [
    "def get_completion(prompt, model=\"gpt-4o-mini\"):\n",
    "    messages = [{\"role\": \"user\", \"content\": prompt}]\n",
    "    response = client.chat.completions.create(\n",
    "        model=model,\n",
    "        messages=messages,\n",
    "        temperature=0,\n",
    "    )\n",
    "    return response.choices[0].message.content\n",
    "\n",
    "# Example usage\n",
    "prompt = \"What is the capital of France?\"\n",
    "response = get_completion(prompt)\n",
    "print(response)\n",
    "\n",
    "prompt = \"What is the capital of Germany?\"\n",
    "response = get_completion(prompt)\n",
    "print(response)"
   ],
   "outputs": [
    {
     "name": "stdout",
     "output_type": "stream",
     "text": [
      "The capital of France is Paris.\n",
      "The capital of Germany is Berlin.\n"
     ]
    }
   ],
   "execution_count": 8
  },
  {
   "cell_type": "code",
   "execution_count": 21,
   "metadata": {},
   "outputs": [],
   "source": [
    "# Exercise 1: Modify the prompt to ask about the capital of Germany.\n"
   ]
  },
  {
   "cell_type": "markdown",
   "metadata": {},
   "source": [
    "### 3. Summarization\n",
    "You can use prompts to summarize text."
   ]
  },
  {
   "cell_type": "code",
   "metadata": {
    "ExecuteTime": {
     "end_time": "2025-07-31T17:12:28.715229Z",
     "start_time": "2025-07-31T17:12:23.471800Z"
    }
   },
   "source": [
    "text = \"\"\"\n",
    "Category theory is a general theory of mathematical structures and their relations. It was introduced by Samuel Eilenberg and Saunders Mac Lane in the middle of the 20th century in their foundational work on algebraic topology.[1] Category theory is used in most areas of mathematics. In particular, many constructions of new mathematical objects from previous ones that appear similarly in several contexts are conveniently expressed and unified in terms of categories. Examples include quotient spaces, direct products, completion, and duality.\n",
    "\n",
    "Many areas of computer science also rely on category theory, such as functional programming and semantics.\n",
    "\n",
    "A category is formed by two sorts of objects: the objects of the category, and the morphisms, which relate two objects called the source and the target of the morphism. Metaphorically, a morphism is an arrow that maps its source to its target. Morphisms can be composed if the target of the first morphism equals the source of the second one. Morphism composition has similar properties as function composition (associativity and existence of an identity morphism for each object). Morphisms are often some sort of functions, but this is not always the case. For example, a monoid may be viewed as a category with a single object, whose morphisms are the elements of the monoid.\n",
    "\n",
    "The second fundamental concept of category theory is the concept of a functor, which plays the role of a morphism between two categories C1\n",
    "C1 and C2\n",
    "C2: it maps objects of C1\n",
    "C1 to objects of C2\n",
    "C2 and morphisms of C1\n",
    "C1 to morphisms of C2\n",
    "C2 in such a way that sources are mapped to sources, and targets are mapped to targets (or, in the case of a contravariant functor, sources are mapped to targets and vice-versa). A third fundamental concept is a natural transformation that may be viewed as a morphism of functors.\n",
    "\"\"\"\n",
    "\n",
    "prompt = f\"Summarize the following text:\\n{text}\"\n",
    "response = get_completion(prompt)\n",
    "print(response)\n"
   ],
   "outputs": [
    {
     "name": "stdout",
     "output_type": "stream",
     "text": [
      "Category theory, introduced by Samuel Eilenberg and Saunders Mac Lane in the mid-20th century, is a foundational framework in mathematics that studies structures and their relationships. It is widely applicable across various mathematical fields, allowing for the unification of concepts like quotient spaces and duality. Additionally, category theory is significant in computer science, particularly in functional programming and semantics.\n",
      "\n",
      "A category consists of objects and morphisms, which are arrows connecting these objects. Morphisms can be composed under certain conditions, sharing properties with function composition, such as associativity and the existence of identity morphisms. While morphisms often resemble functions, they can also represent other structures, like monoids.\n",
      "\n",
      "Key concepts in category theory include functors, which map objects and morphisms between categories while preserving their relationships, and natural transformations, which act as morphisms between functors.\n"
     ]
    }
   ],
   "execution_count": 10
  },
  {
   "cell_type": "code",
   "execution_count": 20,
   "metadata": {},
   "outputs": [],
   "source": [
    "# Exercise 2: Try summarizing a longer article or passage of your choice."
   ]
  },
  {
   "cell_type": "markdown",
   "metadata": {},
   "source": [
    "### 4. Information Extraction\n",
    "Extract specific information from a given text."
   ]
  },
  {
   "cell_type": "code",
   "metadata": {
    "ExecuteTime": {
     "end_time": "2025-07-31T17:15:38.574621Z",
     "start_time": "2025-07-31T17:15:37.589788Z"
    }
   },
   "source": [
    "text = \"\"\"\n",
    "John Doe, a 29-year-old software engineer from San Francisco, recently joined OpenAI as a research scientist.\n",
    "\"\"\"\n",
    "\n",
    "prompt = f\"Extract the name and occupation from the following text:\\n{text}\"\n",
    "response = get_completion(prompt)\n",
    "print(response)\n",
    "text = \"\"\"\n",
    "John Doe, a 29-year-old software engineer from San Francisco, recently joined OpenAI as a research scientist.\n",
    "\"\"\"\n",
    "\n",
    "prompt = f\"Extract the age and location from the following text:\\n{text}\"\n",
    "response = get_completion(prompt)\n",
    "print(response)\n"
   ],
   "outputs": [
    {
     "name": "stdout",
     "output_type": "stream",
     "text": [
      "Name: John Doe  \n",
      "Occupation: Research Scientist\n",
      "Age: 29  \n",
      "Location: San Francisco\n"
     ]
    }
   ],
   "execution_count": 14
  },
  {
   "cell_type": "code",
   "execution_count": 19,
   "metadata": {},
   "outputs": [],
   "source": [
    "# Exercise 3: Extract the age and location from the same text."
   ]
  },
  {
   "cell_type": "markdown",
   "metadata": {},
   "source": [
    "### 5. Transformation\n",
    "Transform text from one format or style to another."
   ]
  },
  {
   "cell_type": "code",
   "metadata": {
    "ExecuteTime": {
     "end_time": "2025-07-31T17:16:51.312184Z",
     "start_time": "2025-07-31T17:16:47.827176Z"
    }
   },
   "source": [
    "text = \"The weather is nice today.\"\n",
    "\n",
    "prompt = f\"Translate the following text to French:\\n{text}\"\n",
    "response = get_completion(prompt)\n",
    "print(response)\n",
    "\n",
    "text = \"Functors are structure-preserving maps between categories. They can be thought of as morphisms in the category of all (small) categories.\"\n",
    "\n",
    "prompt = f\"Translate the following text to Spanish:\\n{text}\"\n",
    "response = get_completion(prompt)\n",
    "print(response)\n"
   ],
   "outputs": [
    {
     "name": "stdout",
     "output_type": "stream",
     "text": [
      "Le temps est agréable aujourd'hui.\n",
      "Los funtores son mapas que preservan la estructura entre categorías. Se pueden considerar como morfismos en la categoría de todas las (pequeñas) categorías.\n"
     ]
    }
   ],
   "execution_count": 15
  },
  {
   "cell_type": "code",
   "execution_count": 18,
   "metadata": {},
   "outputs": [],
   "source": [
    "# Exercise 4: Translate a different sentence to Spanish."
   ]
  },
  {
   "cell_type": "markdown",
   "metadata": {},
   "source": [
    "### 6. Expansion\n",
    "Expand a short prompt into a more detailed response.​\n",
    "\n"
   ]
  },
  {
   "cell_type": "code",
   "metadata": {
    "ExecuteTime": {
     "end_time": "2025-07-31T17:24:21.106719Z",
     "start_time": "2025-07-31T17:24:10.184163Z"
    }
   },
   "source": [
    "prompt = \"Write a short tragic story about a princess who's kingdom was conquered, thrown into jail and executed years later as the crowd cheers.\"\n",
    "response = get_completion(prompt)\n",
    "print(response)"
   ],
   "outputs": [
    {
     "name": "stdout",
     "output_type": "stream",
     "text": [
      "Once, in the verdant kingdom of Eldoria, there lived a beloved princess named Elara. With her golden hair and gentle spirit, she was the heart of her people, known for her kindness and wisdom. Eldoria thrived under her father’s rule, a realm of peace and prosperity, where laughter echoed through the sunlit halls of the castle.\n",
      "\n",
      "But darkness loomed on the horizon. A ruthless warlord named Kael, driven by ambition and greed, set his sights on Eldoria. Despite Elara’s pleas for peace, the kingdom fell to his merciless army. The castle was stormed, and her father was slain before her eyes. In the chaos, Elara was captured, her cries for mercy drowned out by the clamor of victory.\n",
      "\n",
      "Imprisoned in a cold, damp cell, Elara clung to hope, believing that one day her people would rise against their oppressor. Years passed, and the once-vibrant kingdom fell into despair under Kael’s tyrannical rule. The people, once loyal to their princess, were forced to turn their backs on her, fearing for their lives.\n",
      "\n",
      "As time wore on, Elara’s spirit dimmed. She became a ghost of the vibrant princess she once was, her dreams of freedom fading into the shadows of her cell. The warlord, seeking to solidify his power, announced a public execution to quell any lingering loyalty to the fallen royal family. The day arrived, and the townsfolk gathered, their faces a mix of fear and morbid curiosity.\n",
      "\n",
      "Elara was dragged into the square, her once-bright gown now tattered and stained. The crowd, once her friends and allies, now jeered and cheered for her demise, manipulated by Kael’s propaganda. As she stood before them, her heart shattered at the sight of familiar faces twisted by fear and hatred.\n",
      "\n",
      "With a heavy heart, she raised her chin, refusing to let them see her despair. “I forgive you,” she whispered, her voice barely audible over the roar of the crowd. But her words were lost in the frenzy, drowned out by the chants for her blood.\n",
      "\n",
      "As the executioner raised his sword, Elara closed her eyes, envisioning the kingdom she had loved, the laughter of children, the warmth of the sun. In that fleeting moment, she felt a glimmer of hope, a wish that one day, Eldoria would be free again.\n",
      "\n",
      "The blade fell, and the crowd erupted in cheers, celebrating the end of a legacy. But in the silence that followed, a single tear fell from Elara’s lifeless eyes, a testament to the love she had for her people, even as they turned against her. In that tragic moment, the true cost of tyranny was revealed—not just the loss of a princess, but the death of hope itself.\n"
     ]
    }
   ],
   "execution_count": 18
  },
  {
   "cell_type": "code",
   "execution_count": 23,
   "metadata": {},
   "outputs": [],
   "source": [
    "# Exercise 5: Modify the prompt to write a poem about a robot exploring space."
   ]
  },
  {
   "cell_type": "markdown",
   "metadata": {},
   "source": [
    "### 7. Role-based Prompting\n",
    "Instruct the model to respond in a specific role or persona."
   ]
  },
  {
   "cell_type": "code",
   "metadata": {
    "ExecuteTime": {
     "end_time": "2025-07-31T17:26:43.582661Z",
     "start_time": "2025-07-31T17:26:34.700812Z"
    }
   },
   "source": [
    "prompt = \"As a kindergarten teacher who has a phd in math, explain what category theory is to their students.\"\n",
    "response = get_completion(prompt)\n",
    "print(response)"
   ],
   "outputs": [
    {
     "name": "stdout",
     "output_type": "stream",
     "text": [
      "Alright, little friends! Today, we're going to talk about something really cool called **category theory**. Imagine you have a big box of toys, and each toy is a different kind of shape or color. Now, let's think about how we can organize these toys and understand how they relate to each other.\n",
      "\n",
      "1. **Categories**: First, let's think of a category like a big toy box. In this box, we have different kinds of toys (which we can think of as objects). For example, we might have a teddy bear, a ball, and a puzzle. Each of these toys is like an object in our category.\n",
      "\n",
      "2. **Morphisms**: Now, imagine we have some strings or paths that connect these toys. These strings show how we can play with the toys together. For example, we can roll the ball to the teddy bear or put the puzzle next to the ball. These connections are called **morphisms**. They help us understand how the toys (or objects) relate to each other.\n",
      "\n",
      "3. **Functors**: Sometimes, we want to move our toys to a different box or change them a little bit. A **functor** is like a magical helper that takes all the toys from one box and puts them in another box, while also making sure the connections (morphisms) between them stay the same. So if we had a functor that moved our teddy bear and ball to a new box, it would also make sure that the string connecting them is still there!\n",
      "\n",
      "4. **Natural Transformations**: Now, let’s say we have two different magical helpers (functors) that move our toys in different ways. A **natural transformation** is like a special bridge that connects these two helpers. It shows us how we can go from one way of organizing our toys to another while keeping everything in order.\n",
      "\n",
      "So, in summary, category theory is like a fun way to think about how different things (like toys) are connected and how we can move them around while keeping their relationships the same. It helps us understand not just toys, but also many other things in math and science!\n",
      "\n",
      "Isn't that neat? Just like how we play and connect our toys, category theory helps us see the connections in the world around us!\n"
     ]
    }
   ],
   "execution_count": 19
  },
  {
   "cell_type": "code",
   "execution_count": 25,
   "metadata": {},
   "outputs": [],
   "source": [
    "# Exercise 6: Ask the model to explain a complex topic as if it were a kindergarten teacher."
   ]
  },
  {
   "cell_type": "markdown",
   "metadata": {},
   "source": [
    "### 8. Few-shot Prompting\n",
    "Provide examples to guide the model's responses."
   ]
  },
  {
   "cell_type": "code",
   "metadata": {
    "ExecuteTime": {
     "end_time": "2025-07-31T17:28:04.064996Z",
     "start_time": "2025-07-31T17:28:03.515158Z"
    }
   },
   "source": [
    "prompt = \"\"\"\n",
    "Translate the following English phrases to French:\n",
    "\n",
    "English: Hello\n",
    "French: Bonjour\n",
    "\n",
    "English: Thank you\n",
    "French: Merci\n",
    "\n",
    "English: Good night\n",
    "French:\n",
    "\"\"\"\n",
    "response = get_completion(prompt)\n",
    "print(response)\n"
   ],
   "outputs": [
    {
     "name": "stdout",
     "output_type": "stream",
     "text": [
      "French: Bonne nuit\n"
     ]
    }
   ],
   "execution_count": 20
  },
  {
   "cell_type": "markdown",
   "metadata": {},
   "source": [
    "### 9. Chain-of-Thought Prompting\n",
    "Encourage the model to explain its reasoning step by step."
   ]
  },
  {
   "cell_type": "code",
   "metadata": {
    "ExecuteTime": {
     "end_time": "2025-07-31T17:32:24.803866Z",
     "start_time": "2025-07-31T17:32:11.349556Z"
    }
   },
   "source": [
    "prompt = (\"If in year 1 you manage to sell 1 piggy.\"\n",
    "          \"In year 2 you manage to sell 1 piggy again\"\n",
    "          \"In year 3 you mange to sell 2.\"\n",
    "          \"In year 4 you manage to sell 3.\"\n",
    "          \"In year 5 you manage to sell 5.\"\n",
    "          \"How many piggies will you sell in year 10?\"\n",
    "          \"Explain your reasoning.\")\n",
    "response = get_completion(prompt)\n",
    "print(response)"
   ],
   "outputs": [
    {
     "name": "stdout",
     "output_type": "stream",
     "text": [
      "To determine how many piggies you will sell in year 10, let's first analyze the pattern in the number of piggies sold each year.\n",
      "\n",
      "Here are the sales for the first five years:\n",
      "\n",
      "- Year 1: 1 piggy\n",
      "- Year 2: 1 piggy\n",
      "- Year 3: 2 piggies\n",
      "- Year 4: 3 piggies\n",
      "- Year 5: 5 piggies\n",
      "\n",
      "Now, let's look at the differences in the number of piggies sold each year:\n",
      "\n",
      "- From Year 1 to Year 2: 1 - 1 = 0\n",
      "- From Year 2 to Year 3: 2 - 1 = 1\n",
      "- From Year 3 to Year 4: 3 - 2 = 1\n",
      "- From Year 4 to Year 5: 5 - 3 = 2\n",
      "\n",
      "Now, let's look at the differences of these differences:\n",
      "\n",
      "- From Year 1 to Year 2: 0\n",
      "- From Year 2 to Year 3: 1\n",
      "- From Year 3 to Year 4: 1\n",
      "- From Year 4 to Year 5: 2\n",
      "\n",
      "The second differences are:\n",
      "\n",
      "- From 0 to 1: 1\n",
      "- From 1 to 1: 0\n",
      "- From 1 to 2: 1\n",
      "\n",
      "This suggests that the pattern of sales is following a Fibonacci-like sequence, where each number is the sum of the two preceding numbers, starting from the initial values.\n",
      "\n",
      "To summarize the sales:\n",
      "\n",
      "- Year 1: 1\n",
      "- Year 2: 1\n",
      "- Year 3: 2 (1 + 1)\n",
      "- Year 4: 3 (1 + 2)\n",
      "- Year 5: 5 (2 + 3)\n",
      "\n",
      "Continuing this pattern, we can calculate the sales for the subsequent years:\n",
      "\n",
      "- Year 6: 5 + 3 = 8\n",
      "- Year 7: 8 + 5 = 13\n",
      "- Year 8: 13 + 8 = 21\n",
      "- Year 9: 21 + 13 = 34\n",
      "- Year 10: 34 + 21 = 55\n",
      "\n",
      "Thus, the number of piggies sold in year 10 will be **55**.\n"
     ]
    }
   ],
   "execution_count": 23
  },
  {
   "cell_type": "code",
   "execution_count": 28,
   "metadata": {},
   "outputs": [],
   "source": [
    "# Exercise 8: Pose a different math problem and ask for a step-by-step solution."
   ]
  },
  {
   "cell_type": "markdown",
   "metadata": {},
   "source": [
    "### 10. System Prompts\n",
    "System prompts allow you to set the behavior and role of the AI model before user interaction. By defining a system message, you can influence how the model responds to subsequent user inputs."
   ]
  },
  {
   "cell_type": "code",
   "metadata": {
    "ExecuteTime": {
     "end_time": "2025-07-31T17:34:02.113269Z",
     "start_time": "2025-07-31T17:33:56.852323Z"
    }
   },
   "source": [
    "def get_completion_with_system_prompt(system_prompt, user_prompt, model=\"gpt-4o-mini\"):\n",
    "    messages = [\n",
    "        {\"role\": \"system\", \"content\": system_prompt},\n",
    "        {\"role\": \"user\", \"content\": user_prompt}\n",
    "    ]\n",
    "    response = client.chat.completions.create(\n",
    "        model=model,\n",
    "        messages=messages,\n",
    "        temperature=0,\n",
    "    )\n",
    "    return response.choices[0].message.content\n",
    "\n",
    "# Define the system and user prompts\n",
    "system_prompt = \"You are an entertainer who responds in a humorous tone.\"\n",
    "user_prompt = \"Can you explain the importance of data privacy?\"\n",
    "\n",
    "response = get_completion_with_system_prompt(system_prompt, user_prompt)\n",
    "print(response)"
   ],
   "outputs": [
    {
     "name": "stdout",
     "output_type": "stream",
     "text": [
      "Absolutely! Data privacy is like wearing pants in public—it's not just a good idea, it's essential! Imagine if everyone could see your browsing history. Suddenly, your late-night obsession with cat videos and conspiracy theories about why pigeons are government drones is out in the open. Awkward!\n",
      "\n",
      "Data privacy is important because it protects your personal information from being misused by others. Think of it as a digital bouncer at the club of your life, keeping out the unwanted party crashers who want to steal your identity or sell your secrets to the highest bidder. \n",
      "\n",
      "Plus, in a world where your smart fridge might know more about your eating habits than your best friend, it’s crucial to keep that data locked up tighter than a pickle jar at a family reunion. So, in short, data privacy is about keeping your information safe, your secrets secret, and your cat video habits just between you and your Wi-Fi!\n"
     ]
    }
   ],
   "execution_count": 24
  },
  {
   "cell_type": "code",
   "execution_count": 31,
   "metadata": {},
   "outputs": [],
   "source": [
    "# Exercise 9: Modify the system_prompt to make the assistant respond in a humorous tone. Observe how the responses change."
   ]
  },
  {
   "cell_type": "markdown",
   "metadata": {},
   "source": [
    "### 11. Utilized prompt\n",
    "how different prompt types—system prompts, user prompts, and assistant prompts—can be utilized in an LLM invocation using the OpenAI API, let's walk through examples in both contexts."
   ]
  },
  {
   "cell_type": "code",
   "execution_count": 35,
   "metadata": {},
   "outputs": [
    {
     "name": "stdout",
     "output_type": "stream",
     "text": [
      "George Washington took office as the first president of the United States on April 30, 1789.\n"
     ]
    }
   ],
   "source": [
    "# Define the conversation with different roles\n",
    "messages = [\n",
    "    {\"role\": \"system\", \"content\": \"You are a helpful assistant knowledgeable in history.\"},\n",
    "    {\"role\": \"user\", \"content\": \"Who was the first president of the United States?\"},\n",
    "    {\"role\": \"assistant\", \"content\": \"George Washington was the first president of the United States.\"},\n",
    "    {\"role\": \"user\", \"content\": \"When did he take office?\"}\n",
    "]\n",
    "\n",
    "# Get the model's response\n",
    "response = client.chat.completions.create(\n",
    "    model=\"gpt-4o-mini\",\n",
    "    messages=messages,\n",
    "    temperature=0.7,\n",
    ")\n",
    "\n",
    "# Output the assistant's reply\n",
    "print(response.choices[0].message.content)"
   ]
  },
  {
   "cell_type": "markdown",
   "metadata": {},
   "source": [
    "### 12. Creating an AI Agent\n",
    "An AI agent can perform tasks autonomously based on user instructions. By defining functions and allowing the model to decide when to use them, you can create interactive and functional agents.​\n",
    "\n",
    "Example: AI Agent for Basic Arithmetic"
   ]
  },
  {
   "cell_type": "code",
   "metadata": {
    "ExecuteTime": {
     "end_time": "2025-07-31T17:38:03.979574Z",
     "start_time": "2025-07-31T17:38:02.561337Z"
    }
   },
   "source": [
    "import openai\n",
    "import json\n",
    "\n",
    "# Define available functions\n",
    "def add_numbers(a, b):\n",
    "    return a + b\n",
    "\n",
    "def subtract_numbers(a, b):\n",
    "    return a - b\n",
    "\n",
    "def multiply_numbers(a, b):\n",
    "    return a * b\n",
    "\n",
    "# Function to get the model's response\n",
    "def get_agent_response(user_prompt, model=\"gpt-4o-mini\"): # i do not have gpt4 on my account so gpt-4o-mini is the best we can get\n",
    "    messages = [{\"role\": \"user\", \"content\": user_prompt}]\n",
    "    response = client.chat.completions.create(\n",
    "        model=model,\n",
    "        messages=messages,\n",
    "        functions=[\n",
    "            {\n",
    "                \"name\": \"add_numbers\",\n",
    "                \"description\": \"Add two numbers\",\n",
    "                \"parameters\": {\n",
    "                    \"type\": \"object\",\n",
    "                    \"properties\": {\n",
    "                        \"a\": {\"type\": \"number\", \"description\": \"The first number\"},\n",
    "                        \"b\": {\"type\": \"number\", \"description\": \"The second number\"}\n",
    "                    },\n",
    "                    \"required\": [\"a\", \"b\"]\n",
    "                }\n",
    "            },\n",
    "            {\n",
    "                \"name\": \"subtract_numbers\",\n",
    "                \"description\": \"Subtract two numbers\",\n",
    "                \"parameters\": {\n",
    "                    \"type\": \"object\",\n",
    "                    \"properties\": {\n",
    "                        \"a\": {\"type\": \"number\", \"description\": \"The first number\"},\n",
    "                        \"b\": {\"type\": \"number\", \"description\": \"The second number\"}\n",
    "                    },\n",
    "                    \"required\": [\"a\", \"b\"]\n",
    "                }\n",
    "            },\n",
    "            {\n",
    "                \"name\": \"multiply_numbers\",\n",
    "                \"description\": \"multiplies two numbers\",\n",
    "                \"parameters\": {\n",
    "                    \"type\": \"object\",\n",
    "                    \"properties\": {\n",
    "                        \"a\": {\"type\": \"number\", \"description\": \"The first number\"},\n",
    "                        \"b\": {\"type\": \"number\", \"description\": \"The second number\"}\n",
    "                    },\n",
    "                    \"required\": [\"a\", \"b\"]\n",
    "                }\n",
    "            }\n",
    "        ],\n",
    "        temperature=0,\n",
    "    )\n",
    "\n",
    "    response_message = response.choices[0].message\n",
    "\n",
    "    if response_message.function_call:\n",
    "        function_name = response_message.function_call.name\n",
    "        arguments = json.loads(response_message.function_call.arguments)\n",
    "        if function_name == \"add_numbers\":\n",
    "            result = add_numbers(**arguments)\n",
    "        elif function_name == \"subtract_numbers\":\n",
    "            result = subtract_numbers(**arguments)\n",
    "        elif function_name == \"multiply_numbers\":\n",
    "            result = multiply_numbers(**arguments)\n",
    "        else:\n",
    "            result = \"Function not recognized.\"\n",
    "        return result\n",
    "    else:\n",
    "        return response_message.content\n",
    "\n",
    "# Example usage\n",
    "user_prompt = \"What is 15 minus 7?\"\n",
    "response = get_agent_response(user_prompt)\n",
    "print(response)\n",
    "\n",
    "user_prompt = \"What is 8 times 3?\"\n",
    "response = get_agent_response(user_prompt)\n",
    "print(response)\n"
   ],
   "outputs": [
    {
     "name": "stdout",
     "output_type": "stream",
     "text": [
      "8\n",
      "24\n"
     ]
    }
   ],
   "execution_count": 26
  },
  {
   "cell_type": "code",
   "execution_count": 33,
   "metadata": {},
   "outputs": [],
   "source": [
    "# Exercise 10: Extend the agent by adding a function that multiplies two numbers. Test the agent with prompts that require multiplication."
   ]
  }
 ],
 "metadata": {
  "language_info": {
   "name": "python"
  }
 },
 "nbformat": 4,
 "nbformat_minor": 2
}
